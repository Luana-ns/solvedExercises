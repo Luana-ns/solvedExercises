{
 "cells": [
  {
   "cell_type": "code",
   "execution_count": null,
   "metadata": {
    "scrolled": true
   },
   "outputs": [],
   "source": [
    "def listAlphabet():\n",
    "  return list(map(chr, range(97, 123)))\n",
    "\n",
    "print (listAlphabet())"
   ]
  },
  {
   "cell_type": "code",
   "execution_count": null,
   "metadata": {},
   "outputs": [],
   "source": [
    "def listAlphabet():\n",
    "  return [chr(i) for i in range(ord('a'),ord('z')+1)]\n",
    "\n",
    "print(listAlphabet())"
   ]
  },
  {
   "cell_type": "code",
   "execution_count": null,
   "metadata": {
    "scrolled": false
   },
   "outputs": [],
   "source": [
    "import string\n",
    "def listAlphabet():\n",
    "  return list(string.ascii_lowercase)\n",
    "\n",
    "print(listAlphabet())"
   ]
  },
  {
   "cell_type": "code",
   "execution_count": null,
   "metadata": {},
   "outputs": [],
   "source": [
    "# A função chr() está disponível para uso em Python 3 e superior e é utilizada para fornecer o valor ASCII \n",
    "# de um número de código ASCII correspondente.\n",
    "a = chr(101)\n",
    "print(a)\n",
    "\n",
    "\n",
    "# A função ord() é essencialmente usada para atingir o propósito inverso da função chr(). \n",
    "print (ord('e'))"
   ]
  },
  {
   "cell_type": "code",
   "execution_count": 30,
   "metadata": {},
   "outputs": [
    {
     "name": "stdout",
     "output_type": "stream",
     "text": [
      "Digite a mensagem: Ydprv dsuhqghu fulswrjudild?\n",
      "Digite o valor da cifra: 3\n"
     ]
    },
    {
     "ename": "SyntaxError",
     "evalue": "'return' outside function (<ipython-input-30-1bce1e934b6d>, line 12)",
     "output_type": "error",
     "traceback": [
      "\u001b[0;36m  File \u001b[0;32m\"<ipython-input-30-1bce1e934b6d>\"\u001b[0;36m, line \u001b[0;32m12\u001b[0m\n\u001b[0;31m    return (mensagem[i])\u001b[0m\n\u001b[0m    ^\u001b[0m\n\u001b[0;31mSyntaxError\u001b[0m\u001b[0;31m:\u001b[0m 'return' outside function\n"
     ]
    }
   ],
   "source": [
    "# Implementar a Cifra de César. Dada uma palavra, rotacione suas letras em 3 e responda o que \n",
    "# significam as palavras: \n",
    "# Ydprv dsuhqghu fulswrjudild?\n",
    "# Ydl sud flpd ghohv Jdor!\n",
    "\n",
    "\n",
    "mensagem = input('Digite a mensagem: ')\n",
    "cifra = int(input('Digite o valor da cifra: '))\n",
    "\n",
    "for i in range(len(mensagem)):\n",
    "    if (ord(mensagem[i]) < 65 or ord(mensagem[i]) > 122):\n",
    "        return mensagem[i]\n",
    "    else:\n",
    "        print (chr(ord(mensagem[i]) - cifra), end='')\n",
    "print ('')"
   ]
  },
  {
   "cell_type": "code",
   "execution_count": 17,
   "metadata": {},
   "outputs": [
    {
     "name": "stdout",
     "output_type": "stream",
     "text": [
      "Digite a mensagem: bpr + Pbzhavqnqr = CbqPbqne\n",
      "Digite o valor da cifra: 3\n",
      "_mo \n",
      "+\n",
      " \n",
      "M_we^snkno \n",
      "=\n",
      " \n",
      "@_nM_nkb\n"
     ]
    }
   ],
   "source": [
    "# Implementar a Cifra de Vinegère. Dada uma palavra e uma chave, rotacione as letras e retorne.\n",
    "# Responder o que significam os textos(rot 13):\n",
    "# Ibpr + Pbzhavqnqr = CbqPbqne\n",
    "# Yrzoerz-fr qn ncerfragnpnb qr svany qr pvpyb frznan dhr irz!\n",
    "\n"
   ]
  },
  {
   "cell_type": "code",
   "execution_count": 27,
   "metadata": {},
   "outputs": [
    {
     "name": "stdout",
     "output_type": "stream",
     "text": [
      "-=-=-=-=-=-=-=-=-=-=-=-=-=-\n",
      "Criptografia de César\n",
      " \n",
      "digite a chave de criptografia (ate 26)\n",
      "13\n",
      "Deseja encriptar ou descriptar\n",
      "d\n",
      "Digite o texto a ser criptografado\n",
      "Ibpr + Pbzhavqnqr = CbqPbqne\n",
      "sua mensagem \n",
      "vocemmmcomunidademmmpodcodar\n"
     ]
    }
   ],
   "source": [
    "print (\"-=-=-=-=-=-=-=-=-=-=-=-=-=-\")\n",
    "print(\"Criptografia de César\")\n",
    "print(\" \")\n",
    "\n",
    "#recebe a chave de critografia e valida\n",
    "chave = int(input(\"digite a chave de criptografia (ate 26)\\n\"))\n",
    "while chave > 26 or chave < 0:  \n",
    "    print(\" \")\n",
    "    chave = input(\"chave inválida, tente novamente\")\n",
    "\n",
    "base = 'abcdefghijklmnopqrstuvwxyz'\n",
    "\n",
    "#escolhe o modo\n",
    "modo = str(input(\"Deseja encriptar ou descriptar\\n\"))\n",
    "\n",
    "#insere e formata o texto\n",
    "text= input(\"Digite o texto a ser criptografado\\n\")\n",
    "text = text.lower()\n",
    "\n",
    "\n",
    "#insere o texto final\n",
    "cripto =''\n",
    "\n",
    "    #escolhe o modo\n",
    "if (modo == 'e' or modo == 'encriptar') :\n",
    "    for word in text:\n",
    "                #encontra o numero da posição dp word na base\n",
    "        posicion = base.find(word)\n",
    "\n",
    "            #soma a chave á posição\n",
    "        posicion += chave\n",
    "\n",
    "            # se a posição for maior que a base ira calcular a diferença\n",
    "        if(posicion > len(base)):\n",
    "            posicion = posicion - len(base)\n",
    "\n",
    "    #concatena a o word encontrado           \n",
    "        cripto = cripto + base[posicion]\n",
    "\n",
    "elif (modo == 'd' or modo == 'decriptar'):\n",
    "        # contador do texto\n",
    "            # recebe o word da posição\n",
    "            #condição se o word estiver contido na base\n",
    "    for word in text:\n",
    "            #encontra a posição\n",
    "        posicion = base.find(word)\n",
    "            #subtrai a chave\n",
    "        posicion -= chave\n",
    "            #condicional se a posição foi menor que 0\n",
    "        if posicion < 0:\n",
    "                # subtrai o valor absoluto da base para encontrar a posição\n",
    "            posicion = len(base)- abs(posicion)\n",
    "\n",
    "    #resultado            \n",
    "        cripto = cripto + base[posicion]\n",
    "\n",
    "print(\"sua mensagem \\n\" + cripto)"
   ]
  },
  {
   "cell_type": "code",
   "execution_count": 33,
   "metadata": {},
   "outputs": [
    {
     "name": "stdout",
     "output_type": "stream",
     "text": [
      "Escreva sua frase: Ibpr + Pbzhavqnqr = CbqPbqne\n",
      "Escreva a rotação: 13\n"
     ]
    },
    {
     "ename": "TypeError",
     "evalue": "unsupported operand type(s) for +: 'int' and 'str'",
     "output_type": "error",
     "traceback": [
      "\u001b[0;31m---------------------------------------------------------------------------\u001b[0m",
      "\u001b[0;31mTypeError\u001b[0m                                 Traceback (most recent call last)",
      "\u001b[0;32m<ipython-input-33-72789f0e67a0>\u001b[0m in \u001b[0;36m<module>\u001b[0;34m\u001b[0m\n\u001b[1;32m     13\u001b[0m \u001b[0;32mdef\u001b[0m \u001b[0mdecodifica\u001b[0m\u001b[0;34m(\u001b[0m\u001b[0mmensagem\u001b[0m\u001b[0;34m,\u001b[0m \u001b[0mchave\u001b[0m\u001b[0;34m)\u001b[0m\u001b[0;34m:\u001b[0m\u001b[0;34m\u001b[0m\u001b[0;34m\u001b[0m\u001b[0m\n\u001b[1;32m     14\u001b[0m     \u001b[0;32mreturn\u001b[0m \u001b[0mcodifica\u001b[0m\u001b[0;34m(\u001b[0m\u001b[0mmensagem\u001b[0m\u001b[0;34m,\u001b[0m \u001b[0mlen\u001b[0m\u001b[0;34m(\u001b[0m\u001b[0malfabeto\u001b[0m\u001b[0;34m)\u001b[0m\u001b[0;34m-\u001b[0m\u001b[0mchave\u001b[0m\u001b[0;34m)\u001b[0m\u001b[0;34m\u001b[0m\u001b[0;34m\u001b[0m\u001b[0m\n\u001b[0;32m---> 15\u001b[0;31m \u001b[0mprint\u001b[0m\u001b[0;34m(\u001b[0m\u001b[0mcodifica\u001b[0m\u001b[0;34m(\u001b[0m\u001b[0mmensagem\u001b[0m\u001b[0;34m,\u001b[0m \u001b[0mchave\u001b[0m\u001b[0;34m)\u001b[0m\u001b[0;34m)\u001b[0m\u001b[0;34m\u001b[0m\u001b[0;34m\u001b[0m\u001b[0m\n\u001b[0m\u001b[1;32m     16\u001b[0m \u001b[0mprint\u001b[0m\u001b[0;34m(\u001b[0m\u001b[0mdecodifica\u001b[0m\u001b[0;34m(\u001b[0m\u001b[0mmensagem\u001b[0m\u001b[0;34m,\u001b[0m \u001b[0mchave\u001b[0m\u001b[0;34m)\u001b[0m\u001b[0;34m)\u001b[0m\u001b[0;34m\u001b[0m\u001b[0;34m\u001b[0m\u001b[0m\n",
      "\u001b[0;32m<ipython-input-33-72789f0e67a0>\u001b[0m in \u001b[0;36mcodifica\u001b[0;34m(mensagem, chave)\u001b[0m\n\u001b[1;32m      8\u001b[0m     \u001b[0;32mfor\u001b[0m \u001b[0mletra\u001b[0m \u001b[0;32min\u001b[0m \u001b[0mmensagem\u001b[0m\u001b[0;34m:\u001b[0m\u001b[0;34m\u001b[0m\u001b[0;34m\u001b[0m\u001b[0m\n\u001b[1;32m      9\u001b[0m         \u001b[0mindice\u001b[0m \u001b[0;34m=\u001b[0m \u001b[0mord\u001b[0m\u001b[0;34m(\u001b[0m\u001b[0mletra\u001b[0m\u001b[0;34m)\u001b[0m\u001b[0;34m-\u001b[0m\u001b[0;36m65\u001b[0m\u001b[0;34m\u001b[0m\u001b[0;34m\u001b[0m\u001b[0m\n\u001b[0;32m---> 10\u001b[0;31m         \u001b[0mcifra\u001b[0m\u001b[0;34m+=\u001b[0m \u001b[0malfabeto\u001b[0m\u001b[0;34m[\u001b[0m\u001b[0;34m(\u001b[0m\u001b[0mindice\u001b[0m\u001b[0;34m+\u001b[0m\u001b[0mchave\u001b[0m\u001b[0;34m)\u001b[0m \u001b[0;34m%\u001b[0m\u001b[0mlen\u001b[0m\u001b[0;34m(\u001b[0m\u001b[0malfabeto\u001b[0m\u001b[0;34m)\u001b[0m\u001b[0;34m]\u001b[0m \u001b[0;32mif\u001b[0m \u001b[0mletra\u001b[0m \u001b[0;32min\u001b[0m \u001b[0malfabeto\u001b[0m \u001b[0;32melse\u001b[0m \u001b[0mletra\u001b[0m\u001b[0;34m\u001b[0m\u001b[0;34m\u001b[0m\u001b[0m\n\u001b[0m\u001b[1;32m     11\u001b[0m     \u001b[0;32mreturn\u001b[0m \u001b[0mcifra\u001b[0m\u001b[0;34m\u001b[0m\u001b[0;34m\u001b[0m\u001b[0m\n\u001b[1;32m     12\u001b[0m \u001b[0;34m\u001b[0m\u001b[0m\n",
      "\u001b[0;31mTypeError\u001b[0m: unsupported operand type(s) for +: 'int' and 'str'"
     ]
    }
   ],
   "source": [
    "from string import ascii_uppercase\n",
    "\n",
    "alfabeto = list(ascii_uppercase)\n",
    "mensagem = input('Escreva sua frase: ')\n",
    "chave = input('Escreva a rotação: ')\n",
    "def codifica(mensagem, chave):\n",
    "    cifra = \"\"\n",
    "    for letra in mensagem:\n",
    "        indice = ord(letra)-65\n",
    "        cifra+= alfabeto[(indice+chave) %len(alfabeto)] if letra in alfabeto else letra\n",
    "    return cifra\n",
    "\n",
    "def decodifica(mensagem, chave):\n",
    "    return codifica(mensagem, len(alfabeto)-chave)\n",
    "print(codifica(mensagem, chave))\n",
    "print(decodifica(mensagem, chave))"
   ]
  },
  {
   "cell_type": "code",
   "execution_count": null,
   "metadata": {},
   "outputs": [],
   "source": []
  }
 ],
 "metadata": {
  "kernelspec": {
   "display_name": "Python 3",
   "language": "python",
   "name": "python3"
  },
  "language_info": {
   "codemirror_mode": {
    "name": "ipython",
    "version": 3
   },
   "file_extension": ".py",
   "mimetype": "text/x-python",
   "name": "python",
   "nbconvert_exporter": "python",
   "pygments_lexer": "ipython3",
   "version": "3.7.6"
  }
 },
 "nbformat": 4,
 "nbformat_minor": 4
}
