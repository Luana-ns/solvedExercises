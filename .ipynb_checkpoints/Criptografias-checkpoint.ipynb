{
 "cells": [
  {
   "cell_type": "code",
   "execution_count": null,
   "metadata": {
    "scrolled": true
   },
   "outputs": [],
   "source": [
    "def listAlphabet():\n",
    "  return list(map(chr, range(97, 123)))\n",
    "\n",
    "print (listAlphabet())"
   ]
  },
  {
   "cell_type": "code",
   "execution_count": null,
   "metadata": {},
   "outputs": [],
   "source": [
    "def listAlphabet():\n",
    "  return [chr(i) for i in range(ord('a'),ord('z')+1)]\n",
    "\n",
    "print(listAlphabet())"
   ]
  },
  {
   "cell_type": "code",
   "execution_count": null,
   "metadata": {
    "scrolled": false
   },
   "outputs": [],
   "source": [
    "import string\n",
    "def listAlphabet():\n",
    "  return list(string.ascii_lowercase)\n",
    "\n",
    "print(listAlphabet())"
   ]
  },
  {
   "cell_type": "code",
   "execution_count": null,
   "metadata": {},
   "outputs": [],
   "source": [
    "# A função chr() está disponível para uso em Python 3 e superior e é utilizada para fornecer o valor ASCII \n",
    "# de um número de código ASCII correspondente.\n",
    "a = chr(101)\n",
    "print(a)\n",
    "\n",
    "\n",
    "# A função ord() é essencialmente usada para atingir o propósito inverso da função chr(). \n",
    "print (ord('e'))"
   ]
  },
  {
   "cell_type": "code",
   "execution_count": 2,
   "metadata": {},
   "outputs": [
    {
     "name": "stdout",
     "output_type": "stream",
     "text": [
      "Digite a mensagem: Ydprv dsuhqghu fulswrjudild?\n",
      "Digite o valor da cifra: 3\n",
      "Vamos \n",
      "aprender \n",
      "criptografia?\n",
      "\n"
     ]
    }
   ],
   "source": [
    "# Implementar a Cifra de César. Dada uma palavra, rotacione suas letras em 3 e responda o que \n",
    "# significam as palavras: \n",
    "# Ydprv dsuhqghu fulswrjudild?\n",
    "# Ydl sud flpd ghohv Jdor!\n",
    "\n",
    "mensagem = input('Digite a mensagem: ')\n",
    "cifra = int(input('Digite o valor da cifra: '))\n",
    "\n",
    "for i in range(len(mensagem)):\n",
    "    if (ord(mensagem[i]) < 65 or ord(mensagem[i]) > 122):\n",
    "        print(mensagem[i])\n",
    "    else:\n",
    "        print (chr(ord(mensagem[i]) - cifra), end='')\n",
    "print ('')"
   ]
  },
  {
   "cell_type": "code",
   "execution_count": null,
   "metadata": {},
   "outputs": [],
   "source": []
  },
  {
   "cell_type": "code",
   "execution_count": null,
   "metadata": {},
   "outputs": [],
   "source": []
  }
 ],
 "metadata": {
  "kernelspec": {
   "display_name": "Python 3",
   "language": "python",
   "name": "python3"
  },
  "language_info": {
   "codemirror_mode": {
    "name": "ipython",
    "version": 3
   },
   "file_extension": ".py",
   "mimetype": "text/x-python",
   "name": "python",
   "nbconvert_exporter": "python",
   "pygments_lexer": "ipython3",
   "version": "3.7.6"
  }
 },
 "nbformat": 4,
 "nbformat_minor": 4
}
