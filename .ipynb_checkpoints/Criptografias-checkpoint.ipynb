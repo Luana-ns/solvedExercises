{
 "cells": [
  {
   "cell_type": "markdown",
   "metadata": {},
   "source": [
    " ## <span style=\"color:#0b3954\"> Funções para percorrer alfabeto por meio da tabela Ascii </span>"
   ]
  },
  {
   "cell_type": "code",
   "execution_count": null,
   "metadata": {
    "scrolled": true
   },
   "outputs": [],
   "source": [
    "def listAlphabet():\n",
    "  return list(map(chr, range(97, 123)))\n",
    "\n",
    "print (listAlphabet())"
   ]
  },
  {
   "cell_type": "code",
   "execution_count": null,
   "metadata": {},
   "outputs": [],
   "source": [
    "def listAlphabet():\n",
    "  return [chr(i) for i in range(ord('a'),ord('z')+1)]\n",
    "\n",
    "print(listAlphabet())"
   ]
  },
  {
   "cell_type": "code",
   "execution_count": null,
   "metadata": {
    "scrolled": false
   },
   "outputs": [],
   "source": [
    "import string\n",
    "def listAlphabet():\n",
    "  return list(string.ascii_lowercase)\n",
    "\n",
    "print(listAlphabet())"
   ]
  },
  {
   "cell_type": "code",
   "execution_count": null,
   "metadata": {},
   "outputs": [],
   "source": [
    "# A função chr() está disponível para uso em Python 3 e superior e é utilizada para fornecer o valor ASCII \n",
    "# de um número de código ASCII correspondente.\n",
    "a = chr(101)\n",
    "print(a)\n",
    "\n",
    "\n",
    "# A função ord() é essencialmente usada para atingir o propósito inverso da função chr(). \n",
    "print (ord('e'))"
   ]
  },
  {
   "cell_type": "markdown",
   "metadata": {},
   "source": [
    "## <span style=\"color:#ff5a5f\">Cifra de César</span> \n",
    "\n",
    "####  Implementar a Cifra de César. Dada uma palavra, rotacione suas letras em 3 e responda o que significam as frases:\n",
    "- Ydprv dsuhqghu fulswrjudild?\n",
    "- Ydl sud flpd ghohv Jdor! \n"
   ]
  },
  {
   "cell_type": "code",
   "execution_count": 1,
   "metadata": {},
   "outputs": [
    {
     "name": "stdout",
     "output_type": "stream",
     "text": [
      "Digite a mensagem: Ydprv dsuhqghu fulswrjudild?\n",
      "Digite o valor da cifra: 3\n",
      "Vamos aprender criptografia?\n"
     ]
    }
   ],
   "source": [
    "# Usando tabela Ascii: \n",
    "\n",
    "mensagem = input('Digite a mensagem: ')\n",
    "chave = int(input('Digite o valor da cifra: '))\n",
    "resultado = ''\n",
    "for i in range(len(mensagem)):\n",
    "    if (ord(mensagem[i]) < 65 or ord(mensagem[i]) > 122):\n",
    "        resultado += (mensagem[i])\n",
    "    else:\n",
    "        resultado += chr(ord(mensagem[i]) - chave)\n",
    "print(resultado)\n"
   ]
  },
  {
   "cell_type": "code",
   "execution_count": 2,
   "metadata": {},
   "outputs": [
    {
     "name": "stdout",
     "output_type": "stream",
     "text": [
      "Digite o valor da cifra:3\n",
      "Digite a mensagem: Ydl sud flpd ghohv Jdor!\n",
      "Resultado: VAI PRA CIMA DELES GALO!\n"
     ]
    }
   ],
   "source": [
    "# Sem usar tabela Ascii \n",
    "\n",
    "# Para descriptar, colocar cifra positiva.  Para encriptar, colocar cifra com valor negativo. \n",
    "\n",
    "\n",
    "alfabeto =  'ABCDEFGHIJKLMNOPQRSTUVWXYZABCDEFGHIJKLMNOPQRSTUVWXYZ'\n",
    "cifra = int(input('Digite o valor da cifra:')) # rotação\n",
    "mensagem = input(\"Digite a mensagem: \").upper()\n",
    "resultado = ''\n",
    "for i in mensagem:\n",
    "    pos = alfabeto.find(i)\n",
    "    new_pos = pos - cifra\n",
    "    if i in alfabeto:\n",
    "        resultado += alfabeto[new_pos]\n",
    "    else:\n",
    "        resultado += i\n",
    "print ('Resultado: ' + resultado)"
   ]
  },
  {
   "cell_type": "markdown",
   "metadata": {},
   "source": [
    "## <span style=\"color:#ff5a5f\">Cifra de Vigenèrer</span> \n",
    "\n",
    "#### Implementar a Cifra de Vigenère. Dada uma palavra e uma chave, rotacione as letras e retorne. Responder o que significam as frases (rotação 13):\n",
    "- Ibpr + Pbzhavqnqr = CbqPbqne\n",
    "- Yrzoerz-fr qn ncerfragnpnb qr svany qr pvpyb frznan dhr irz!"
   ]
  },
  {
   "cell_type": "code",
   "execution_count": 3,
   "metadata": {},
   "outputs": [
    {
     "name": "stdout",
     "output_type": "stream",
     "text": [
      "Digite o valor da cifra:13\n",
      "Digite a mensagem: Ibpr + Pbzhavqnqr = CbqPbqne\n",
      "Resultado: VOCE + COMUNIDADE = PODCODAR\n"
     ]
    }
   ],
   "source": [
    "alfabeto =  'ABCDEFGHIJKLMNOPQRSTUVWXYZABCDEFGHIJKLMNOPQRSTUVWXYZ'\n",
    "cifra = int(input('Digite o valor da cifra: ')) # rotação\n",
    "mensagem = input(\"Digite a mensagem: \").upper()\n",
    "resultado = ''\n",
    "for i in mensagem:\n",
    "    pos = alfabeto.find(i)\n",
    "    new_pos = (pos - cifra) % 26\n",
    "    if i in alfabeto:\n",
    "        resultado += alfabeto[new_pos]\n",
    "    else:\n",
    "        resultado += i\n",
    "print ('Resultado: ' + resultado)"
   ]
  },
  {
   "cell_type": "code",
   "execution_count": null,
   "metadata": {},
   "outputs": [],
   "source": []
  }
 ],
 "metadata": {
  "kernelspec": {
   "display_name": "Python 3",
   "language": "python",
   "name": "python3"
  },
  "language_info": {
   "codemirror_mode": {
    "name": "ipython",
    "version": 3
   },
   "file_extension": ".py",
   "mimetype": "text/x-python",
   "name": "python",
   "nbconvert_exporter": "python",
   "pygments_lexer": "ipython3",
   "version": "3.7.6"
  }
 },
 "nbformat": 4,
 "nbformat_minor": 4
}
